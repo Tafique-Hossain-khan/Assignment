{
 "cells": [
  {
   "attachments": {},
   "cell_type": "markdown",
   "metadata": {},
   "source": [
    "Q1. You are writing code for a company. The requirement of the company is that you create a python \n",
    "function that will check whether the password entered by the user is correct or not. The function should \n",
    "take the password as input and return the string “Valid Password” if the entered password follows the \n",
    "below-given password guidelines else it should return “Invalid Password”.\n",
    "\n",
    "\n",
    "Note: 1. The Password should contain at least two uppercase letters and at least two lowercase letters.\n",
    "\n",
    "2. The Password should contain at least a number and three special characters.\n",
    "\n",
    "3. The length of the password should be 10 characters long."
   ]
  },
  {
   "cell_type": "code",
   "execution_count": 146,
   "metadata": {},
   "outputs": [],
   "source": [
    "\n",
    "class password:\n",
    "\n",
    "    def __init__(self) -> None:\n",
    "        self.pin=''\n",
    "        self.menue()\n",
    "\n",
    "    def menue(self):\n",
    "        \n",
    "        a = int(input(\"\"\"\n",
    "        1.press 1 to set password\\n\n",
    "        2.press 2 to check password\\n\n",
    "        \"\"\"))\n",
    "        if a ==1:\n",
    "            self.set_password()\n",
    "\n",
    "                \n",
    "             \n",
    "\n",
    "    def set_password(self):\n",
    "        \n",
    "        \n",
    "        s = input('Enter your passwor:')\n",
    "        #s='TAfi!>@320'\n",
    "        uppercase = False\n",
    "        uppercase_cont =0\n",
    "        lowercase = False\n",
    "        lowercase_count =0\n",
    "        digit = False\n",
    "        digit_count =0\n",
    "        \n",
    "        special_char = False\n",
    "       \n",
    "        special_char_count = 0\n",
    "\n",
    "        length = False\n",
    "        if len(s)==10:\n",
    "            length =True\n",
    "        #rules\n",
    "        for ch in s:\n",
    "            if ch.isupper():\n",
    "                uppercase_cont+=1\n",
    "                if uppercase_cont >= 2:\n",
    "                    uppercase=True\n",
    "            elif ch.islower():\n",
    "                lowercase_count+=1\n",
    "                if lowercase_count >=2:\n",
    "                    lowercase = True\n",
    "            elif ch.isdigit():\n",
    "                digit_count+=1\n",
    "                if digit_count >= 1:\n",
    "                    digit = True\n",
    "            elif ch.isalnum() == False:\n",
    "                special_char_count +=1\n",
    "                if special_char_count >=1:\n",
    "                    special_char = True\n",
    "                \n",
    "        if uppercase and lowercase and digit and length and special_char == True:\n",
    "            self.pin = s\n",
    "            print('Valid pin')\n",
    "\n",
    "        else:\n",
    "            print('Invlaid pin!')\n",
    "            print(\"\"\" please follow the rules:\\n\n",
    "            1. The Password should contain at least two uppercase letters and at least two lowercase letters.\\n\n",
    "\n",
    "            2. The Password should contain at least a number and three special characters.\\n\n",
    "\n",
    "            3. The length of the password should be 10 characters long.\\n\n",
    "\n",
    "        \n",
    "\n",
    "            \"\"\")\n",
    "        \n",
    "\n",
    "\n",
    "\n",
    "        \n",
    "            \n",
    "\n",
    "\n",
    "            \n",
    "\n",
    "  \n",
    "\n"
   ]
  },
  {
   "cell_type": "code",
   "execution_count": 147,
   "metadata": {},
   "outputs": [
    {
     "name": "stdout",
     "output_type": "stream",
     "text": [
      "Valid pin\n"
     ]
    }
   ],
   "source": [
    "a = password()"
   ]
  },
  {
   "attachments": {},
   "cell_type": "markdown",
   "metadata": {},
   "source": [
    "Q2. Solve the below-given questions using at least one of the following:"
   ]
  },
  {
   "cell_type": "code",
   "execution_count": 151,
   "metadata": {},
   "outputs": [],
   "source": [
    "# Check if the string starts with a particular letterY\n",
    "s=\"Pw skills\"\n",
    "s1=\"DAta science\"\n",
    "\n",
    "for i in s:\n",
    "    a = lambda i: True if i.startswith(\"P\") else False"
   ]
  },
  {
   "cell_type": "code",
   "execution_count": 154,
   "metadata": {},
   "outputs": [
    {
     "data": {
      "text/plain": [
       "True"
      ]
     },
     "execution_count": 154,
     "metadata": {},
     "output_type": "execute_result"
    }
   ],
   "source": [
    "a(s)\n"
   ]
  },
  {
   "cell_type": "code",
   "execution_count": 153,
   "metadata": {},
   "outputs": [
    {
     "data": {
      "text/plain": [
       "False"
      ]
     },
     "execution_count": 153,
     "metadata": {},
     "output_type": "execute_result"
    }
   ],
   "source": [
    "a(s1)"
   ]
  },
  {
   "cell_type": "code",
   "execution_count": 157,
   "metadata": {},
   "outputs": [],
   "source": [
    "# Check if the string is numeric\n",
    "s='hello200'\n",
    "for i in s:\n",
    "    a = lambda i: True if i.isalnum() else False"
   ]
  },
  {
   "cell_type": "code",
   "execution_count": 158,
   "metadata": {},
   "outputs": [
    {
     "data": {
      "text/plain": [
       "True"
      ]
     },
     "execution_count": 158,
     "metadata": {},
     "output_type": "execute_result"
    }
   ],
   "source": [
    "a(s)"
   ]
  },
  {
   "cell_type": "code",
   "execution_count": null,
   "metadata": {},
   "outputs": [],
   "source": [
    "#B Sort a list of tuples having fruit names and their quantity. [(\"mango\",99),(\"orange\",80), (\"grapes\", 1000)]"
   ]
  },
  {
   "cell_type": "code",
   "execution_count": null,
   "metadata": {},
   "outputs": [],
   "source": []
  },
  {
   "cell_type": "code",
   "execution_count": 159,
   "metadata": {},
   "outputs": [],
   "source": [
    "#B Find the squares of numbers from 1 to 10\n",
    "\n",
    "\n",
    "sq = lambda i: i**2\n",
    "\n"
   ]
  },
  {
   "cell_type": "code",
   "execution_count": 162,
   "metadata": {},
   "outputs": [
    {
     "name": "stdout",
     "output_type": "stream",
     "text": [
      "[1, 4, 9, 16, 25, 36, 49, 64, 81, 100]\n"
     ]
    }
   ],
   "source": [
    "square=[]\n",
    "for i in range(1,11):\n",
    "    square.append(sq(i))\n",
    "print(square)"
   ]
  },
  {
   "cell_type": "code",
   "execution_count": null,
   "metadata": {},
   "outputs": [],
   "source": [
    "#B Find the cube root of numbers from 1 to 10"
   ]
  },
  {
   "cell_type": "code",
   "execution_count": 164,
   "metadata": {},
   "outputs": [],
   "source": [
    "# Check if a given number is evenY\n",
    "\n",
    "\n",
    "\n",
    "even= lambda a : print('Even') if a%2==0 else print('odd')"
   ]
  },
  {
   "cell_type": "code",
   "execution_count": 165,
   "metadata": {},
   "outputs": [
    {
     "name": "stdout",
     "output_type": "stream",
     "text": [
      "Even\n"
     ]
    }
   ],
   "source": [
    "even(10)"
   ]
  },
  {
   "cell_type": "code",
   "execution_count": 166,
   "metadata": {},
   "outputs": [
    {
     "name": "stdout",
     "output_type": "stream",
     "text": [
      "odd\n"
     ]
    }
   ],
   "source": [
    "even(25)"
   ]
  },
  {
   "cell_type": "code",
   "execution_count": 168,
   "metadata": {},
   "outputs": [
    {
     "data": {
      "text/plain": [
       "[1, 3, 5, 7, 9]"
      ]
     },
     "execution_count": 168,
     "metadata": {},
     "output_type": "execute_result"
    }
   ],
   "source": [
    "# Filter odd numbers from the given list.\n",
    "\n",
    "lst=[1,2,3,4,5,6,7,8,9,10]\n",
    "\n",
    "list(filter(lambda a: a%2!=0,lst))\n"
   ]
  },
  {
   "cell_type": "code",
   "execution_count": 193,
   "metadata": {},
   "outputs": [],
   "source": [
    "# Sort a list of integers into positive and negative integers lists.\n",
    "\n",
    "lst= [1,2,3,4,5,6,-1,-2,-3,-4,-5,0]\n"
   ]
  },
  {
   "cell_type": "code",
   "execution_count": 196,
   "metadata": {},
   "outputs": [],
   "source": [
    "pos_lst=[]\n",
    "neg_lst=[]  \n",
    "for i in lst:\n",
    "    if i>=0:\n",
    "        pos_lst.append(i)\n",
    "    else:\n",
    "        neg_lst.append(i)"
   ]
  },
  {
   "cell_type": "code",
   "execution_count": 200,
   "metadata": {},
   "outputs": [],
   "source": [
    "pos_lst.sort()"
   ]
  },
  {
   "cell_type": "code",
   "execution_count": 201,
   "metadata": {},
   "outputs": [
    {
     "data": {
      "text/plain": [
       "[0, 1, 2, 3, 4, 5, 6]"
      ]
     },
     "execution_count": 201,
     "metadata": {},
     "output_type": "execute_result"
    }
   ],
   "source": [
    "pos_lst"
   ]
  },
  {
   "cell_type": "code",
   "execution_count": 202,
   "metadata": {},
   "outputs": [],
   "source": [
    "neg_lst.sort()"
   ]
  },
  {
   "cell_type": "code",
   "execution_count": 203,
   "metadata": {},
   "outputs": [
    {
     "data": {
      "text/plain": [
       "[-5, -4, -3, -2, -1]"
      ]
     },
     "execution_count": 203,
     "metadata": {},
     "output_type": "execute_result"
    }
   ],
   "source": [
    "neg_lst"
   ]
  },
  {
   "cell_type": "code",
   "execution_count": null,
   "metadata": {},
   "outputs": [],
   "source": []
  }
 ],
 "metadata": {
  "kernelspec": {
   "display_name": "Python 3",
   "language": "python",
   "name": "python3"
  },
  "language_info": {
   "codemirror_mode": {
    "name": "ipython",
    "version": 3
   },
   "file_extension": ".py",
   "mimetype": "text/x-python",
   "name": "python",
   "nbconvert_exporter": "python",
   "pygments_lexer": "ipython3",
   "version": "3.10.7"
  },
  "orig_nbformat": 4,
  "vscode": {
   "interpreter": {
    "hash": "b29ef05052d7722f888a8cb5fb085f362c17bc146b65a4fe713f30277b93fdc9"
   }
  }
 },
 "nbformat": 4,
 "nbformat_minor": 2
}
