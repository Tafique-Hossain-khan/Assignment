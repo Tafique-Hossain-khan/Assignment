{
 "cells": [
  {
   "attachments": {},
   "cell_type": "markdown",
   "metadata": {},
   "source": [
    "Q1. Create a function which will take a list as an argument and return the product of all the numbers\n",
    "after creating a flat list.\n",
    "Use the below-given list as an argument for your function.\n",
    "list1 = [1,2,3,4, [44,55,66, True], False, (34,56,78,89,34), {1,2,3,3,2,1}, {1:34, \"key2\": [55, 67, 78, 89], 4: (45,\n",
    "22, 61, 34)}, [56, 'data science'], 'Machine Learning']"
   ]
  },
  {
   "cell_type": "code",
   "execution_count": 117,
   "metadata": {},
   "outputs": [],
   "source": [
    "list1 = [1,2,3,4, [44,55,66, True], False, (34,56,78,89,34), {1,2,3,3,2,1}, {1:34, \"key2\": [55, 67, 78, 89], 4: (45,\n",
    "22, 61, 34)}, [56, 'data science'], 'Machine Learning']\n"
   ]
  },
  {
   "cell_type": "code",
   "execution_count": 118,
   "metadata": {},
   "outputs": [],
   "source": [
    "flat_list=[]\n",
    "for i in list1:\n",
    "    if type(i)==int:\n",
    "            flat_list.append(i)\n",
    "    elif type(i)==list:\n",
    "            for j in i:\n",
    "                if type(j) == int or float:\n",
    "                    flat_list.append(j)\n",
    "    elif type(i) == tuple:\n",
    "            for j in i:\n",
    "                if type(j) == int or float:\n",
    "                    flat_list.append(j)\n",
    "    elif type(i) == set:\n",
    "            for j in i:\n",
    "                if type(j) == int or float:\n",
    "                    flat_list.append(j)\n",
    "    elif type(i) == dict:\n",
    "        if type(i) == list:\n",
    "            for j in i:\n",
    "                if type(j)==int:\n",
    "                    flat_list.append(j)\n",
    "    if type(i) == dict:\n",
    "        for j in i:\n",
    "            if type(j) == int:\n",
    "                flat_list.append(j)\n",
    "        \n",
    "        for k in i.values():\n",
    "            if type(k) == list:\n",
    "                if type(i) == int:\n",
    "                        flat_list.append(i)\n",
    "            \n",
    "            elif type(k) == tuple:\n",
    "                for i in k:\n",
    "                    if type(i) == int:\n",
    "                        flat_list.append(i)\n",
    "                       \n",
    "        \n",
    "\n",
    "\n",
    "\n"
   ]
  },
  {
   "cell_type": "code",
   "execution_count": 119,
   "metadata": {},
   "outputs": [
    {
     "name": "stdout",
     "output_type": "stream",
     "text": [
      "[1, 2, 3, 4, 44, 55, 66, True, 34, 56, 78, 89, 34, 1, 2, 3, 1, 4, 45, 22, 61, 34, 56, 'data science']\n"
     ]
    }
   ],
   "source": [
    "print(flat_list)"
   ]
  },
  {
   "cell_type": "code",
   "execution_count": 120,
   "metadata": {},
   "outputs": [],
   "source": [
    "def product(l):\n",
    "    mul =1\n",
    "    for i in l:\n",
    "        if type(i) == int or float:\n",
    "            mul = mul *i\n",
    "\n",
    "\n",
    "    \n",
    "    return mul\n"
   ]
  },
  {
   "cell_type": "code",
   "execution_count": 116,
   "metadata": {},
   "outputs": [
    {
     "data": {
      "text/plain": [
       "84889935191223248486400"
      ]
     },
     "execution_count": 116,
     "metadata": {},
     "output_type": "execute_result"
    }
   ],
   "source": [
    "product(flat_list)"
   ]
  },
  {
   "attachments": {},
   "cell_type": "markdown",
   "metadata": {},
   "source": [
    "Q2. Write a python program for encrypting a message sent to you by your friend. The logic of encryption\n",
    "should be such that, for a the output should be z. For b, the output should be y. For c, the output should\n",
    "be x respectively. Also, the whitespace should be replaced with a dollar sign. Keep the punctuation\n",
    "marks unchanged.\n",
    "Input Sentence: I want to become a Data Scientist.\n",
    "Encrypt the above input sentence using the program you just created.\n",
    "Note: Convert the given input sentence into lowercase before encrypting. The final output should be\n",
    "lowercase.\n"
   ]
  },
  {
   "cell_type": "code",
   "execution_count": 8,
   "metadata": {},
   "outputs": [],
   "source": [
    "\n",
    "        "
   ]
  },
  {
   "cell_type": "code",
   "execution_count": null,
   "metadata": {},
   "outputs": [],
   "source": []
  },
  {
   "cell_type": "code",
   "execution_count": null,
   "metadata": {},
   "outputs": [],
   "source": []
  }
 ],
 "metadata": {
  "kernelspec": {
   "display_name": "Python 3",
   "language": "python",
   "name": "python3"
  },
  "language_info": {
   "codemirror_mode": {
    "name": "ipython",
    "version": 3
   },
   "file_extension": ".py",
   "mimetype": "text/x-python",
   "name": "python",
   "nbconvert_exporter": "python",
   "pygments_lexer": "ipython3",
   "version": "3.10.7"
  },
  "orig_nbformat": 4,
  "vscode": {
   "interpreter": {
    "hash": "b29ef05052d7722f888a8cb5fb085f362c17bc146b65a4fe713f30277b93fdc9"
   }
  }
 },
 "nbformat": 4,
 "nbformat_minor": 2
}
