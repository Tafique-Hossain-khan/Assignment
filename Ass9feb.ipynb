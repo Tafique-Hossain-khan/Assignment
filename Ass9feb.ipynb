{
 "cells": [
  {
   "attachments": {},
   "cell_type": "markdown",
   "metadata": {},
   "source": [
    "Q1, Create a vehicle class with an init method having instance variables as name_of_vehicle, max_speed \n",
    "and average_of_vehicle. "
   ]
  },
  {
   "cell_type": "code",
   "execution_count": 1,
   "metadata": {},
   "outputs": [],
   "source": [
    "class vehicle:\n",
    "    def __init__(self,name_of_vehicle, max_speed ,average_of_vehicle) -> None:\n",
    "        self.vehicle_name = name_of_vehicle\n",
    "        self.max_speed = max_speed\n",
    "        self.average_speed = average_of_vehicle"
   ]
  },
  {
   "attachments": {},
   "cell_type": "markdown",
   "metadata": {},
   "source": [
    "Q2.  Create a child class car from the vehicle class created in Que 1, which will inherit the vehicle class. \n",
    "Create a method named seating_capacity which takes capacity as an argument and returns the name of \n",
    "the vehicle and its seating capacity."
   ]
  },
  {
   "cell_type": "code",
   "execution_count": 2,
   "metadata": {},
   "outputs": [],
   "source": [
    "class car(vehicle):\n",
    "    \n",
    "    def seating_capacity(self,capacity):\n",
    "        if capacity == 2:\n",
    "            print(\"car: BMW\")\n",
    "            print('Seating capacity: 2')\n",
    "        elif capacity == 4:\n",
    "            print(\"car: Harrer\")\n",
    "            print('Seating capacity: 4')"
   ]
  },
  {
   "cell_type": "code",
   "execution_count": 5,
   "metadata": {},
   "outputs": [],
   "source": [
    "obj_car = car(\"bmw\",340,10000)"
   ]
  },
  {
   "cell_type": "code",
   "execution_count": 6,
   "metadata": {},
   "outputs": [
    {
     "name": "stdout",
     "output_type": "stream",
     "text": [
      "car: Harrer\n",
      "Seating capacity: 4\n"
     ]
    }
   ],
   "source": [
    "obj_car.seating_capacity(4)"
   ]
  },
  {
   "attachments": {},
   "cell_type": "markdown",
   "metadata": {},
   "source": [
    "Q3. What is multiple inheritance? Write a python code to demonstrate multiple inheritance."
   ]
  },
  {
   "attachments": {},
   "cell_type": "markdown",
   "metadata": {},
   "source": [
    "Multiple inheritance:- It is a property in polymorphisem in which there will be multiple parent class and a child class will have all the property of the parent class .\n",
    "\n",
    "Example is given below:"
   ]
  },
  {
   "cell_type": "code",
   "execution_count": 8,
   "metadata": {},
   "outputs": [],
   "source": [
    "class father:\n",
    "\n",
    "    def show(self):\n",
    "        print('I am father')\n",
    "\n",
    "class mother:\n",
    "    def identiy(self):\n",
    "        print('i am mother')\n",
    "\n",
    "class child(father,mother):\n",
    "    def name(self):\n",
    "        print('my name is x')"
   ]
  },
  {
   "cell_type": "code",
   "execution_count": 10,
   "metadata": {},
   "outputs": [
    {
     "name": "stdout",
     "output_type": "stream",
     "text": [
      "i am mother\n",
      "I am father\n",
      "my name is x\n"
     ]
    }
   ],
   "source": [
    "obj = child()\n",
    "obj.identiy()\n",
    "obj.show()\n",
    "obj.name()"
   ]
  },
  {
   "attachments": {},
   "cell_type": "markdown",
   "metadata": {},
   "source": [
    "Q4. What are getter and setter in python? Create a class and create a getter and a setter method in this \n",
    "class."
   ]
  },
  {
   "attachments": {},
   "cell_type": "markdown",
   "metadata": {},
   "source": [
    "As we know that we can not access or change anything in a private veriable so we use getter and setter method. Getter method is use to get the value from the private variable in the constructor. \n",
    "and Setter is use to set the value of private verialbe"
   ]
  },
  {
   "cell_type": "code",
   "execution_count": 18,
   "metadata": {},
   "outputs": [],
   "source": [
    "class atm:\n",
    "    def __init__(self,pin,balance) -> None:\n",
    "        self.__pin = pin\n",
    "        self.balance = balance\n",
    "\n",
    "    @property\n",
    "    def get_pin(self):\n",
    "        return self.__pin\n",
    "    \n",
    "    @get_pin.setter\n",
    "    def set_pin(self,pin):\n",
    "        self.__pin = pin\n",
    "\n"
   ]
  },
  {
   "cell_type": "code",
   "execution_count": 19,
   "metadata": {},
   "outputs": [],
   "source": [
    "obj = atm(1234,4000)"
   ]
  },
  {
   "cell_type": "code",
   "execution_count": 20,
   "metadata": {},
   "outputs": [
    {
     "data": {
      "text/plain": [
       "1234"
      ]
     },
     "execution_count": 20,
     "metadata": {},
     "output_type": "execute_result"
    }
   ],
   "source": [
    "obj.get_pin\n"
   ]
  },
  {
   "cell_type": "code",
   "execution_count": 21,
   "metadata": {},
   "outputs": [],
   "source": [
    "obj.set_pin = 12345"
   ]
  },
  {
   "cell_type": "code",
   "execution_count": 22,
   "metadata": {},
   "outputs": [
    {
     "data": {
      "text/plain": [
       "12345"
      ]
     },
     "execution_count": 22,
     "metadata": {},
     "output_type": "execute_result"
    }
   ],
   "source": [
    "obj.get_pin"
   ]
  },
  {
   "attachments": {},
   "cell_type": "markdown",
   "metadata": {},
   "source": [
    "Q5.What is method overriding in python? Write a python code to demonstrate method overriding."
   ]
  },
  {
   "attachments": {},
   "cell_type": "markdown",
   "metadata": {},
   "source": [
    "Method overriding is when the class have the same method name and the paremeter must be also same "
   ]
  },
  {
   "cell_type": "code",
   "execution_count": 3,
   "metadata": {},
   "outputs": [],
   "source": [
    "#Example\n",
    "class bank:\n",
    "    def intrest(self):\n",
    "        return 0\n",
    "    \n",
    "class sbi(bank):\n",
    "    def intrest(self):\n",
    "        return 8\n",
    "\n",
    "class hdfc(bank):\n",
    "    def intrest(self):\n",
    "        return 9\n",
    "class panjab_bank(bank):\n",
    "    def intrest(self):\n",
    "        return 12\n"
   ]
  },
  {
   "cell_type": "code",
   "execution_count": 5,
   "metadata": {},
   "outputs": [
    {
     "name": "stdout",
     "output_type": "stream",
     "text": [
      "The interst in sbi is8%\n",
      "The interst in hdfc is9%\n",
      "The interst in panjab_bank is12%\n"
     ]
    }
   ],
   "source": [
    "obj_sbi= sbi()\n",
    "obj_hdfc = hdfc()\n",
    "obj_panjab_bank = panjab_bank()\n",
    "\n",
    "print(\"The interst in sbi is{}%\".format(obj_sbi.intrest()))\n",
    "print(\"The interst in hdfc is{}%\".format(obj_hdfc.intrest()))\n",
    "print(\"The interst in panjab_bank is{}%\".format(obj_panjab_bank.intrest()))"
   ]
  },
  {
   "cell_type": "code",
   "execution_count": null,
   "metadata": {},
   "outputs": [],
   "source": []
  }
 ],
 "metadata": {
  "kernelspec": {
   "display_name": "Python 3",
   "language": "python",
   "name": "python3"
  },
  "language_info": {
   "codemirror_mode": {
    "name": "ipython",
    "version": 3
   },
   "file_extension": ".py",
   "mimetype": "text/x-python",
   "name": "python",
   "nbconvert_exporter": "python",
   "pygments_lexer": "ipython3",
   "version": "3.10.7"
  },
  "orig_nbformat": 4
 },
 "nbformat": 4,
 "nbformat_minor": 2
}
