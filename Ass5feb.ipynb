{
 "cells": [
  {
   "attachments": {},
   "cell_type": "markdown",
   "metadata": {},
   "source": [
    "Q1. Explain Class and Object with respect to Object-Oriented Programming. Give a suitable example."
   ]
  },
  {
   "attachments": {},
   "cell_type": "markdown",
   "metadata": {},
   "source": [
    "Class are the user defined data type.\n",
    "It act as a structure for objects, methods \n",
    "\n",
    "Object is the instance of the class.\n",
    "An object is the runtime entity.\n",
    "The object is an instance of a class"
   ]
  },
  {
   "cell_type": "code",
   "execution_count": 1,
   "metadata": {},
   "outputs": [],
   "source": [
    "#Example\n",
    "\n",
    "class Atm:\n",
    "\n",
    "    def __init__(self):\n",
    "        self.pin =0\n",
    "        self.balance =0\n",
    "\n",
    "\n",
    "    def set_pin(self):\n",
    "        pass\n",
    "\n",
    "    def check_balance(self):\n",
    "        pass\n",
    "\n",
    "    def withdraw(self):\n",
    "        pass"
   ]
  },
  {
   "cell_type": "code",
   "execution_count": 2,
   "metadata": {},
   "outputs": [],
   "source": [
    "obj_atm = Atm()"
   ]
  },
  {
   "attachments": {},
   "cell_type": "markdown",
   "metadata": {},
   "source": [
    "Q2. Name the four pillars of OOPs\n",
    "\n",
    "Ans: Four pillars of oops are:-\n",
    "1.Abstraction\n",
    "2.Polimorphisem\n",
    "3.Inheritance\n",
    "4.Encaptulation"
   ]
  },
  {
   "attachments": {},
   "cell_type": "markdown",
   "metadata": {},
   "source": [
    "Q3. Explain why the __init__() function is used. Give a suitable example."
   ]
  },
  {
   "attachments": {},
   "cell_type": "markdown",
   "metadata": {},
   "source": [
    "Ans: __init__(self) is the constructor of the class."
   ]
  },
  {
   "cell_type": "code",
   "execution_count": 9,
   "metadata": {},
   "outputs": [],
   "source": [
    "#Example\n",
    "class math:\n",
    "\n",
    "    def __init__(self,a,b):\n",
    "        self.a =a\n",
    "        self.b =b\n",
    "\n",
    "    def add(self):\n",
    "        return self.a +self.b\n",
    "    \n",
    "    def sub(self):\n",
    "        return self.a -self.b\n",
    "    \n",
    "    def mul(self):\n",
    "        return self.a *self.b"
   ]
  },
  {
   "cell_type": "code",
   "execution_count": 10,
   "metadata": {},
   "outputs": [],
   "source": [
    "obj_math = math(2,3)"
   ]
  },
  {
   "cell_type": "code",
   "execution_count": 12,
   "metadata": {},
   "outputs": [
    {
     "data": {
      "text/plain": [
       "5"
      ]
     },
     "execution_count": 12,
     "metadata": {},
     "output_type": "execute_result"
    }
   ],
   "source": [
    "obj_math.add()"
   ]
  },
  {
   "cell_type": "code",
   "execution_count": 13,
   "metadata": {},
   "outputs": [
    {
     "data": {
      "text/plain": [
       "-1"
      ]
     },
     "execution_count": 13,
     "metadata": {},
     "output_type": "execute_result"
    }
   ],
   "source": [
    "obj_math.sub()"
   ]
  },
  {
   "attachments": {},
   "cell_type": "markdown",
   "metadata": {},
   "source": [
    "Q4. Why self is used in OOPs?\n",
    "\n",
    "Ans; The self is a refrance to the current instance of the class, and is used to access vaariable that belongs to the class"
   ]
  },
  {
   "attachments": {},
   "cell_type": "markdown",
   "metadata": {},
   "source": [
    "Q5. What is inheritance? Give an example for each type of inheritance.\n",
    "\n",
    "Ans: Inheritance is the porperty through which a child class extend the property of parent class and use them according to there requirenment.\n",
    "\n",
    "There are multiple type of Inheritance:\n",
    "1.single inheritance\n",
    "2.multiple inheritance\n",
    "3.multilevel inheritance\n",
    "4.Herarhical inheritance\n",
    " "
   ]
  },
  {
   "cell_type": "code",
   "execution_count": 17,
   "metadata": {},
   "outputs": [],
   "source": [
    "#Example of 1 single inheritance\n",
    "\n",
    "class vehicle:\n",
    "\n",
    "    def car(self):\n",
    "        print('Hii i am car')\n",
    "\n",
    "class bmw(vehicle):\n",
    "    def speed(self):\n",
    "        print(\"my speed is xkm/hr\")"
   ]
  },
  {
   "cell_type": "code",
   "execution_count": 18,
   "metadata": {},
   "outputs": [],
   "source": [
    "obj_bmw = bmw()"
   ]
  },
  {
   "cell_type": "code",
   "execution_count": 23,
   "metadata": {},
   "outputs": [
    {
     "name": "stdout",
     "output_type": "stream",
     "text": [
      "Hii i am car\n",
      "my speed is xkm/hr\n"
     ]
    }
   ],
   "source": [
    "obj_bmw.car()\n",
    "obj_bmw.speed()"
   ]
  },
  {
   "cell_type": "code",
   "execution_count": 29,
   "metadata": {},
   "outputs": [],
   "source": [
    "#Example of multiple inheritance\n",
    "\n",
    "class father:\n",
    "\n",
    "    def show(self):\n",
    "        print('I am father')\n",
    "\n",
    "class mother:\n",
    "    def identiy(self):\n",
    "        print('i am mother')\n",
    "\n",
    "class child(father,mother):\n",
    "    def name(self):\n",
    "        print('my name is x')\n"
   ]
  },
  {
   "cell_type": "code",
   "execution_count": 30,
   "metadata": {},
   "outputs": [],
   "source": [
    "obj_child = child()"
   ]
  },
  {
   "cell_type": "code",
   "execution_count": 31,
   "metadata": {},
   "outputs": [
    {
     "name": "stdout",
     "output_type": "stream",
     "text": [
      "I am father\n",
      "i am mother\n",
      "my name is x\n"
     ]
    }
   ],
   "source": [
    "obj_child.show()\n",
    "obj_child.identiy()\n",
    "obj_child.name()"
   ]
  },
  {
   "cell_type": "code",
   "execution_count": 32,
   "metadata": {},
   "outputs": [],
   "source": [
    "#Example of multilevel inheritance\n",
    "\n",
    "class grand_parent:\n",
    "\n",
    "    def name(self):\n",
    "        print('I am child grand parent')\n",
    "class parent(grand_parent):\n",
    "    def P_name(self):\n",
    "        print('I am child parent')\n",
    "class child(parent): \n",
    "    def child_name(self):\n",
    "        print(\"i am child\")"
   ]
  },
  {
   "cell_type": "code",
   "execution_count": 33,
   "metadata": {},
   "outputs": [],
   "source": [
    "obj_child = child()"
   ]
  },
  {
   "cell_type": "code",
   "execution_count": 35,
   "metadata": {},
   "outputs": [
    {
     "name": "stdout",
     "output_type": "stream",
     "text": [
      "I am child grand parent\n",
      "I am child parent\n"
     ]
    }
   ],
   "source": [
    "obj_child.name()\n",
    "obj_child.P_name()"
   ]
  },
  {
   "cell_type": "code",
   "execution_count": 36,
   "metadata": {},
   "outputs": [],
   "source": [
    "obj_parent =parent()"
   ]
  },
  {
   "cell_type": "code",
   "execution_count": 37,
   "metadata": {},
   "outputs": [
    {
     "name": "stdout",
     "output_type": "stream",
     "text": [
      "I am child grand parent\n",
      "I am child parent\n"
     ]
    }
   ],
   "source": [
    "obj_parent.name()\n",
    "obj_parent.P_name()"
   ]
  },
  {
   "cell_type": "code",
   "execution_count": 38,
   "metadata": {},
   "outputs": [],
   "source": [
    "#Example of Herarhical inheritance\n",
    "\n",
    "class parent:\n",
    "    def show(self):\n",
    "        print('i am parent')\n",
    "\n",
    "class child1(parent):\n",
    "    def child1_name(self):\n",
    "        print('my name is X')\n",
    "class child2(parent):\n",
    "    def child2_name(self):\n",
    "        print('my name is y')"
   ]
  },
  {
   "cell_type": "code",
   "execution_count": 39,
   "metadata": {},
   "outputs": [],
   "source": [
    "obj_child1 = child1()\n",
    "obj_child2 = child2()"
   ]
  },
  {
   "cell_type": "code",
   "execution_count": 40,
   "metadata": {},
   "outputs": [
    {
     "name": "stdout",
     "output_type": "stream",
     "text": [
      "my name is X\n",
      "i am parent\n"
     ]
    }
   ],
   "source": [
    "obj_child1.child1_name()\n",
    "obj_child1.show()"
   ]
  },
  {
   "cell_type": "code",
   "execution_count": 42,
   "metadata": {},
   "outputs": [
    {
     "name": "stdout",
     "output_type": "stream",
     "text": [
      "my name is y\n",
      "i am parent\n"
     ]
    }
   ],
   "source": [
    "obj_child2.child2_name()\n",
    "obj_child2.show()"
   ]
  },
  {
   "cell_type": "code",
   "execution_count": null,
   "metadata": {},
   "outputs": [],
   "source": []
  }
 ],
 "metadata": {
  "kernelspec": {
   "display_name": "Python 3",
   "language": "python",
   "name": "python3"
  },
  "language_info": {
   "codemirror_mode": {
    "name": "ipython",
    "version": 3
   },
   "file_extension": ".py",
   "mimetype": "text/x-python",
   "name": "python",
   "nbconvert_exporter": "python",
   "pygments_lexer": "ipython3",
   "version": "3.10.7"
  },
  "orig_nbformat": 4,
  "vscode": {
   "interpreter": {
    "hash": "b29ef05052d7722f888a8cb5fb085f362c17bc146b65a4fe713f30277b93fdc9"
   }
  }
 },
 "nbformat": 4,
 "nbformat_minor": 2
}
